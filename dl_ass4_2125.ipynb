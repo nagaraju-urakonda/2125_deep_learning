{
  "nbformat": 4,
  "nbformat_minor": 0,
  "metadata": {
    "colab": {
      "provenance": [],
      "authorship_tag": "ABX9TyO2ch6kcs1SFUlVGvC9zHgy",
      "include_colab_link": true
    },
    "kernelspec": {
      "name": "python3",
      "display_name": "Python 3"
    },
    "language_info": {
      "name": "python"
    }
  },
  "cells": [
    {
      "cell_type": "markdown",
      "metadata": {
        "id": "view-in-github",
        "colab_type": "text"
      },
      "source": [
        "<a href=\"https://colab.research.google.com/github/nagaraju-urakonda/2125_deep_learning/blob/main/dl_ass4_2125.ipynb\" target=\"_parent\"><img src=\"https://colab.research.google.com/assets/colab-badge.svg\" alt=\"Open In Colab\"/></a>"
      ]
    },
    {
      "cell_type": "code",
      "execution_count": 1,
      "metadata": {
        "colab": {
          "base_uri": "https://localhost:8080/"
        },
        "id": "IG9b5ifpceL-",
        "outputId": "1e6589af-01d3-4b02-8076-65923bc464d7"
      },
      "outputs": [
        {
          "output_type": "stream",
          "name": "stdout",
          "text": [
            "Epoch 0, MSE: 1.22687\n",
            "Epoch 100, MSE: 0.00139\n",
            "Epoch 200, MSE: 0.00045\n",
            "Epoch 300, MSE: 0.00017\n",
            "Epoch 400, MSE: 0.00009\n",
            "Epoch 500, MSE: 0.00007\n",
            "Epoch 600, MSE: 0.00006\n",
            "Epoch 700, MSE: 0.00006\n",
            "Epoch 800, MSE: 0.00005\n",
            "Epoch 900, MSE: 0.00005\n",
            "\n",
            "Test MSE: 0.00018\n",
            "\n",
            "Enter x1, x2, x3 values: 0.6 0.7 0.8\n",
            "Predicted output: 0.42726\n"
          ]
        }
      ],
      "source": [
        "import numpy as np\n",
        "\n",
        "# Training data (from Table 1)\n",
        "X_train = np.array([\n",
        "    [0.1, 0.2, 0.3],\n",
        "    [0.2, 0.3, 0.4],\n",
        "    [0.3, 0.4, 0.5],\n",
        "    [0.5, 0.6, 0.7],\n",
        "    [0.1, 0.3, 0.5],\n",
        "    [0.2, 0.4, 0.6],\n",
        "    [0.3, 0.5, 0.7],\n",
        "    [0.4, 0.6, 0.8],\n",
        "    [0.5, 0.7, 0.1]\n",
        "])\n",
        "\n",
        "y_train = np.array([\n",
        "    0.14, 0.20, 0.26, 0.38, 0.22, 0.28, 0.34, 0.40, 0.22\n",
        "]).reshape(-1, 1)\n",
        "\n",
        "# Test data (from Table 2)\n",
        "X_test = np.array([\n",
        "    [0.6, 0.7, 0.8],\n",
        "    [0.7, 0.8, 0.9]\n",
        "])\n",
        "\n",
        "y_test = np.array([\n",
        "    0.44, 0.50\n",
        "]).reshape(-1, 1)\n",
        "\n",
        "# Initialize weights and bias\n",
        "np.random.seed(42)\n",
        "weights = np.random.rand(3, 1)  # 3 input features, 1 output\n",
        "bias = np.random.rand(1)  # Shape (1,)\n",
        "\n",
        "# Hyperparameters\n",
        "learning_rate = 0.01\n",
        "epochs = 1000\n",
        "\n",
        "# Training using Stochastic Gradient Descent (SGD)\n",
        "for epoch in range(epochs):\n",
        "    total_loss = 0\n",
        "\n",
        "    for i in range(len(X_train)):\n",
        "        # Select one training sample at a time\n",
        "        x_sample = X_train[i].reshape(1, -1)  # Shape (1, 3)\n",
        "        y_sample = y_train[i].reshape(1, 1)  # Shape (1, 1)\n",
        "\n",
        "        # Forward propagation\n",
        "        y_pred = np.dot(x_sample, weights) + bias\n",
        "\n",
        "        # Compute error\n",
        "        error = y_pred - y_sample\n",
        "        total_loss += error ** 2\n",
        "\n",
        "        # Compute gradients\n",
        "        d_weights = 2 * np.dot(x_sample.T, error)  # Shape (3,1)\n",
        "        d_bias = 2 * error  # Shape (1,1)\n",
        "\n",
        "        # Update weights and bias\n",
        "        weights -= learning_rate * d_weights\n",
        "        bias -= learning_rate * d_bias.flatten()  # Convert (1,1) to (1,)\n",
        "\n",
        "    # Compute MSE for this epoch\n",
        "    mse = total_loss / len(X_train)\n",
        "\n",
        "    if epoch % 100 == 0:\n",
        "        print(f\"Epoch {epoch}, MSE: {mse[0,0]:.5f}\")\n",
        "\n",
        "# Calculate MSE for test data\n",
        "y_test_pred = np.dot(X_test, weights) + bias\n",
        "test_mse = np.mean((y_test_pred - y_test) ** 2)\n",
        "print(f\"\\nTest MSE: {test_mse:.5f}\")\n",
        "\n",
        "# Prediction function\n",
        "def predict():\n",
        "    x1, x2, x3 = map(float, input(\"\\nEnter x1, x2, x3 values: \").split())\n",
        "    input_data = np.array([[x1, x2, x3]])\n",
        "    prediction = np.dot(input_data, weights) + bias\n",
        "    print(f\"Predicted output: {prediction[0, 0]:.5f}\")\n",
        "\n",
        "# Get user input for prediction\n",
        "predict()"
      ]
    },
    {
      "cell_type": "code",
      "source": [],
      "metadata": {
        "id": "36es53Oicj_A"
      },
      "execution_count": null,
      "outputs": []
    }
  ]
}